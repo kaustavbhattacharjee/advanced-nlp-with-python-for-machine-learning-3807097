{
  "cells": [
    {
      "cell_type": "markdown",
      "metadata": {
        "id": "15EatDy5yxEI"
      },
      "source": [
        "#Analyze Customer Feedback\n",
        "\n",
        "In this exercise, we analyze customer feedback using spaCy and TextBlob."
      ]
    },
    {
      "cell_type": "markdown",
      "source": [
        "#Exercise #1:  Install Libraries and Modules\n",
        "\n"
      ],
      "metadata": {
        "id": "xfkLj86ioXxy"
      }
    },
    {
      "cell_type": "code",
      "execution_count": 3,
      "metadata": {
        "id": "aQZzfNqQkdfW"
      },
      "outputs": [],
      "source": [
        "#Install Libraries and Modules\n",
        "import pandas as pd\n",
        "import numpy as np\n",
        "import spacy, csv\n",
        "from textblob import TextBlob\n",
        "\n",
        "\n",
        "\n"
      ]
    },
    {
      "cell_type": "markdown",
      "source": [
        "#Exercise #2: Read in Feedback File and Create Output File for Results"
      ],
      "metadata": {
        "id": "TElJA9XWLMrm"
      }
    },
    {
      "cell_type": "code",
      "source": [
        "# EXERCISE - SCROLL DOWN TO THE \"START HERE\" SECTION BELOW.\n",
        "\n",
        "# Load the English NLP model\n",
        "nlp = spacy.load(\"en_core_web_sm\")\n",
        "\n",
        "\n",
        "#Define the path to the file containing feedback\n",
        "file_path = '/content/feedback_data.csv'\n",
        "\n",
        "# Read the file using open() with the specified parameters\n",
        "with open(file_path, \"r\", encoding=\"utf-8\") as file:\n",
        "    # Step 2: Read the lines of the file\n",
        "    feedback_data = file.readlines()\n",
        "\n",
        "# Add code to output feedback results to a file.\n",
        "output_csv_path = \"feedback_analysis_results.csv\"\n",
        "\n",
        "# Prepare CSV header\n",
        "csv_header = [\"Feedback Index\", \"Sentiment Polarity\", \"Sentiment Subjectivity\", \"Named Entities\", \"Preferred Contact Method\"]\n",
        "\n",
        "# Open CSV file for writing\n",
        "\n",
        "with open(output_csv_path, \"w\", newline=\"\", encoding=\"utf-8\") as csv_file:\n",
        "    # Create CSV writer\n",
        "    csv_writer = csv.writer(csv_file)\n",
        "\n",
        "    # Write the header\n",
        "    csv_writer.writerow(csv_header)\n",
        "\n",
        "#-----------------------------------------------------------------\n",
        "# START HERE\n",
        "\n",
        "# Process and analyze each feedback\n",
        "for i,feedback in enumerate(feedback_data):\n",
        "  feedbackline = []\n",
        "  doc = nlp(feedback)\n",
        "  blob = TextBlob(doc.text)\n",
        "  feedbackline.append(i)\n",
        "  feedbackline.append(blob.sentiment.polarity)\n",
        "  feedbackline.append(blob.sentiment.subjectivity)\n",
        "  temp = []\n",
        "  for ent in doc.ents:\n",
        "    temp.append(ent.label_)\n",
        "  feedbackline.append(temp)\n",
        "  preferred_contact_method = \"chat\" if \"email\" not in doc.text.lower() else \"email\"\n",
        "  feedbackline.append(preferred_contact_method)\n",
        "  with open(output_csv_path, \"a\", newline=\"\", encoding=\"utf-8\") as csv_file:\n",
        "    csv_writer = csv.writer(csv_file)\n",
        "    csv_writer.writerow(feedbackline)\n",
        "\n",
        "\n",
        "\n",
        "\n",
        "\n",
        "# Process the narrative using spaCy\n",
        "\n",
        "\n",
        "\n",
        "# Perform sentiment analysis using TextBlob\n",
        "\n",
        "\n",
        "\n",
        "# Extract named entities\n",
        "\n",
        "\n",
        "# Determine the preferred contact method\n",
        "      #preferred_contact_method = \"chat\" if \"email\" not in narrative.lower() else \"email\"\n",
        "      #print(f\"Preferred Contact Method: {preferred_contact_method}\")\n",
        "\n",
        "# Write the results to the CSV file\n",
        "      #csv_writer.writerow([idx, sentiment_polarity, sentiment_subjectivity, entities, preferred_contact_method])\n",
        "\n",
        "#-----------------------------------------------------------------"
      ],
      "metadata": {
        "id": "mjkLcZRHQk0t"
      },
      "execution_count": 11,
      "outputs": []
    },
    {
      "cell_type": "markdown",
      "metadata": {
        "id": "l7hiWdrojvK_"
      },
      "source": [
        "#Exercise #3:  Exploratory Data Analysis on Customer Feedback"
      ]
    },
    {
      "cell_type": "code",
      "execution_count": 12,
      "metadata": {
        "id": "c3VdXX05nCw0",
        "outputId": "550c7ca7-f4fc-4c39-c892-a1d1c0c13c2f",
        "colab": {
          "base_uri": "https://localhost:8080/",
          "height": 175
        }
      },
      "outputs": [
        {
          "output_type": "execute_result",
          "data": {
            "text/plain": [
              "   Feedback Index  Sentiment Polarity  Sentiment Subjectivity Named Entities  \\\n",
              "0               0            0.441667                0.666667        ['GPE']   \n",
              "1               1            0.136364                0.454545        ['GPE']   \n",
              "2               2            0.484091                0.751136        ['GPE']   \n",
              "3               3           -0.750000                0.750000        ['GPE']   \n",
              "\n",
              "  Preferred Contact Method  \n",
              "0                    email  \n",
              "1                    email  \n",
              "2                     chat  \n",
              "3                    email  "
            ],
            "text/html": [
              "\n",
              "  <div id=\"df-1bb1c5a7-94f0-4782-ae83-9fd71db82fdc\" class=\"colab-df-container\">\n",
              "    <div>\n",
              "<style scoped>\n",
              "    .dataframe tbody tr th:only-of-type {\n",
              "        vertical-align: middle;\n",
              "    }\n",
              "\n",
              "    .dataframe tbody tr th {\n",
              "        vertical-align: top;\n",
              "    }\n",
              "\n",
              "    .dataframe thead th {\n",
              "        text-align: right;\n",
              "    }\n",
              "</style>\n",
              "<table border=\"1\" class=\"dataframe\">\n",
              "  <thead>\n",
              "    <tr style=\"text-align: right;\">\n",
              "      <th></th>\n",
              "      <th>Feedback Index</th>\n",
              "      <th>Sentiment Polarity</th>\n",
              "      <th>Sentiment Subjectivity</th>\n",
              "      <th>Named Entities</th>\n",
              "      <th>Preferred Contact Method</th>\n",
              "    </tr>\n",
              "  </thead>\n",
              "  <tbody>\n",
              "    <tr>\n",
              "      <th>0</th>\n",
              "      <td>0</td>\n",
              "      <td>0.441667</td>\n",
              "      <td>0.666667</td>\n",
              "      <td>['GPE']</td>\n",
              "      <td>email</td>\n",
              "    </tr>\n",
              "    <tr>\n",
              "      <th>1</th>\n",
              "      <td>1</td>\n",
              "      <td>0.136364</td>\n",
              "      <td>0.454545</td>\n",
              "      <td>['GPE']</td>\n",
              "      <td>email</td>\n",
              "    </tr>\n",
              "    <tr>\n",
              "      <th>2</th>\n",
              "      <td>2</td>\n",
              "      <td>0.484091</td>\n",
              "      <td>0.751136</td>\n",
              "      <td>['GPE']</td>\n",
              "      <td>chat</td>\n",
              "    </tr>\n",
              "    <tr>\n",
              "      <th>3</th>\n",
              "      <td>3</td>\n",
              "      <td>-0.750000</td>\n",
              "      <td>0.750000</td>\n",
              "      <td>['GPE']</td>\n",
              "      <td>email</td>\n",
              "    </tr>\n",
              "  </tbody>\n",
              "</table>\n",
              "</div>\n",
              "    <div class=\"colab-df-buttons\">\n",
              "\n",
              "  <div class=\"colab-df-container\">\n",
              "    <button class=\"colab-df-convert\" onclick=\"convertToInteractive('df-1bb1c5a7-94f0-4782-ae83-9fd71db82fdc')\"\n",
              "            title=\"Convert this dataframe to an interactive table.\"\n",
              "            style=\"display:none;\">\n",
              "\n",
              "  <svg xmlns=\"http://www.w3.org/2000/svg\" height=\"24px\" viewBox=\"0 -960 960 960\">\n",
              "    <path d=\"M120-120v-720h720v720H120Zm60-500h600v-160H180v160Zm220 220h160v-160H400v160Zm0 220h160v-160H400v160ZM180-400h160v-160H180v160Zm440 0h160v-160H620v160ZM180-180h160v-160H180v160Zm440 0h160v-160H620v160Z\"/>\n",
              "  </svg>\n",
              "    </button>\n",
              "\n",
              "  <style>\n",
              "    .colab-df-container {\n",
              "      display:flex;\n",
              "      gap: 12px;\n",
              "    }\n",
              "\n",
              "    .colab-df-convert {\n",
              "      background-color: #E8F0FE;\n",
              "      border: none;\n",
              "      border-radius: 50%;\n",
              "      cursor: pointer;\n",
              "      display: none;\n",
              "      fill: #1967D2;\n",
              "      height: 32px;\n",
              "      padding: 0 0 0 0;\n",
              "      width: 32px;\n",
              "    }\n",
              "\n",
              "    .colab-df-convert:hover {\n",
              "      background-color: #E2EBFA;\n",
              "      box-shadow: 0px 1px 2px rgba(60, 64, 67, 0.3), 0px 1px 3px 1px rgba(60, 64, 67, 0.15);\n",
              "      fill: #174EA6;\n",
              "    }\n",
              "\n",
              "    .colab-df-buttons div {\n",
              "      margin-bottom: 4px;\n",
              "    }\n",
              "\n",
              "    [theme=dark] .colab-df-convert {\n",
              "      background-color: #3B4455;\n",
              "      fill: #D2E3FC;\n",
              "    }\n",
              "\n",
              "    [theme=dark] .colab-df-convert:hover {\n",
              "      background-color: #434B5C;\n",
              "      box-shadow: 0px 1px 3px 1px rgba(0, 0, 0, 0.15);\n",
              "      filter: drop-shadow(0px 1px 2px rgba(0, 0, 0, 0.3));\n",
              "      fill: #FFFFFF;\n",
              "    }\n",
              "  </style>\n",
              "\n",
              "    <script>\n",
              "      const buttonEl =\n",
              "        document.querySelector('#df-1bb1c5a7-94f0-4782-ae83-9fd71db82fdc button.colab-df-convert');\n",
              "      buttonEl.style.display =\n",
              "        google.colab.kernel.accessAllowed ? 'block' : 'none';\n",
              "\n",
              "      async function convertToInteractive(key) {\n",
              "        const element = document.querySelector('#df-1bb1c5a7-94f0-4782-ae83-9fd71db82fdc');\n",
              "        const dataTable =\n",
              "          await google.colab.kernel.invokeFunction('convertToInteractive',\n",
              "                                                    [key], {});\n",
              "        if (!dataTable) return;\n",
              "\n",
              "        const docLinkHtml = 'Like what you see? Visit the ' +\n",
              "          '<a target=\"_blank\" href=https://colab.research.google.com/notebooks/data_table.ipynb>data table notebook</a>'\n",
              "          + ' to learn more about interactive tables.';\n",
              "        element.innerHTML = '';\n",
              "        dataTable['output_type'] = 'display_data';\n",
              "        await google.colab.output.renderOutput(dataTable, element);\n",
              "        const docLink = document.createElement('div');\n",
              "        docLink.innerHTML = docLinkHtml;\n",
              "        element.appendChild(docLink);\n",
              "      }\n",
              "    </script>\n",
              "  </div>\n",
              "\n",
              "\n",
              "<div id=\"df-1c6998f7-a51f-484c-a478-1b4b34247479\">\n",
              "  <button class=\"colab-df-quickchart\" onclick=\"quickchart('df-1c6998f7-a51f-484c-a478-1b4b34247479')\"\n",
              "            title=\"Suggest charts\"\n",
              "            style=\"display:none;\">\n",
              "\n",
              "<svg xmlns=\"http://www.w3.org/2000/svg\" height=\"24px\"viewBox=\"0 0 24 24\"\n",
              "     width=\"24px\">\n",
              "    <g>\n",
              "        <path d=\"M19 3H5c-1.1 0-2 .9-2 2v14c0 1.1.9 2 2 2h14c1.1 0 2-.9 2-2V5c0-1.1-.9-2-2-2zM9 17H7v-7h2v7zm4 0h-2V7h2v10zm4 0h-2v-4h2v4z\"/>\n",
              "    </g>\n",
              "</svg>\n",
              "  </button>\n",
              "\n",
              "<style>\n",
              "  .colab-df-quickchart {\n",
              "      --bg-color: #E8F0FE;\n",
              "      --fill-color: #1967D2;\n",
              "      --hover-bg-color: #E2EBFA;\n",
              "      --hover-fill-color: #174EA6;\n",
              "      --disabled-fill-color: #AAA;\n",
              "      --disabled-bg-color: #DDD;\n",
              "  }\n",
              "\n",
              "  [theme=dark] .colab-df-quickchart {\n",
              "      --bg-color: #3B4455;\n",
              "      --fill-color: #D2E3FC;\n",
              "      --hover-bg-color: #434B5C;\n",
              "      --hover-fill-color: #FFFFFF;\n",
              "      --disabled-bg-color: #3B4455;\n",
              "      --disabled-fill-color: #666;\n",
              "  }\n",
              "\n",
              "  .colab-df-quickchart {\n",
              "    background-color: var(--bg-color);\n",
              "    border: none;\n",
              "    border-radius: 50%;\n",
              "    cursor: pointer;\n",
              "    display: none;\n",
              "    fill: var(--fill-color);\n",
              "    height: 32px;\n",
              "    padding: 0;\n",
              "    width: 32px;\n",
              "  }\n",
              "\n",
              "  .colab-df-quickchart:hover {\n",
              "    background-color: var(--hover-bg-color);\n",
              "    box-shadow: 0 1px 2px rgba(60, 64, 67, 0.3), 0 1px 3px 1px rgba(60, 64, 67, 0.15);\n",
              "    fill: var(--button-hover-fill-color);\n",
              "  }\n",
              "\n",
              "  .colab-df-quickchart-complete:disabled,\n",
              "  .colab-df-quickchart-complete:disabled:hover {\n",
              "    background-color: var(--disabled-bg-color);\n",
              "    fill: var(--disabled-fill-color);\n",
              "    box-shadow: none;\n",
              "  }\n",
              "\n",
              "  .colab-df-spinner {\n",
              "    border: 2px solid var(--fill-color);\n",
              "    border-color: transparent;\n",
              "    border-bottom-color: var(--fill-color);\n",
              "    animation:\n",
              "      spin 1s steps(1) infinite;\n",
              "  }\n",
              "\n",
              "  @keyframes spin {\n",
              "    0% {\n",
              "      border-color: transparent;\n",
              "      border-bottom-color: var(--fill-color);\n",
              "      border-left-color: var(--fill-color);\n",
              "    }\n",
              "    20% {\n",
              "      border-color: transparent;\n",
              "      border-left-color: var(--fill-color);\n",
              "      border-top-color: var(--fill-color);\n",
              "    }\n",
              "    30% {\n",
              "      border-color: transparent;\n",
              "      border-left-color: var(--fill-color);\n",
              "      border-top-color: var(--fill-color);\n",
              "      border-right-color: var(--fill-color);\n",
              "    }\n",
              "    40% {\n",
              "      border-color: transparent;\n",
              "      border-right-color: var(--fill-color);\n",
              "      border-top-color: var(--fill-color);\n",
              "    }\n",
              "    60% {\n",
              "      border-color: transparent;\n",
              "      border-right-color: var(--fill-color);\n",
              "    }\n",
              "    80% {\n",
              "      border-color: transparent;\n",
              "      border-right-color: var(--fill-color);\n",
              "      border-bottom-color: var(--fill-color);\n",
              "    }\n",
              "    90% {\n",
              "      border-color: transparent;\n",
              "      border-bottom-color: var(--fill-color);\n",
              "    }\n",
              "  }\n",
              "</style>\n",
              "\n",
              "  <script>\n",
              "    async function quickchart(key) {\n",
              "      const quickchartButtonEl =\n",
              "        document.querySelector('#' + key + ' button');\n",
              "      quickchartButtonEl.disabled = true;  // To prevent multiple clicks.\n",
              "      quickchartButtonEl.classList.add('colab-df-spinner');\n",
              "      try {\n",
              "        const charts = await google.colab.kernel.invokeFunction(\n",
              "            'suggestCharts', [key], {});\n",
              "      } catch (error) {\n",
              "        console.error('Error during call to suggestCharts:', error);\n",
              "      }\n",
              "      quickchartButtonEl.classList.remove('colab-df-spinner');\n",
              "      quickchartButtonEl.classList.add('colab-df-quickchart-complete');\n",
              "    }\n",
              "    (() => {\n",
              "      let quickchartButtonEl =\n",
              "        document.querySelector('#df-1c6998f7-a51f-484c-a478-1b4b34247479 button');\n",
              "      quickchartButtonEl.style.display =\n",
              "        google.colab.kernel.accessAllowed ? 'block' : 'none';\n",
              "    })();\n",
              "  </script>\n",
              "</div>\n",
              "\n",
              "    </div>\n",
              "  </div>\n"
            ],
            "application/vnd.google.colaboratory.intrinsic+json": {
              "type": "dataframe",
              "variable_name": "df",
              "summary": "{\n  \"name\": \"df\",\n  \"rows\": 4,\n  \"fields\": [\n    {\n      \"column\": \"Feedback Index\",\n      \"properties\": {\n        \"dtype\": \"number\",\n        \"std\": 1,\n        \"min\": 0,\n        \"max\": 3,\n        \"num_unique_values\": 4,\n        \"samples\": [\n          1,\n          3,\n          0\n        ],\n        \"semantic_type\": \"\",\n        \"description\": \"\"\n      }\n    },\n    {\n      \"column\": \"Sentiment Polarity\",\n      \"properties\": {\n        \"dtype\": \"number\",\n        \"std\": 0.5733392193304117,\n        \"min\": -0.75,\n        \"max\": 0.484090909090909,\n        \"num_unique_values\": 4,\n        \"samples\": [\n          0.1363636363636363,\n          -0.75,\n          0.4416666666666666\n        ],\n        \"semantic_type\": \"\",\n        \"description\": \"\"\n      }\n    },\n    {\n      \"column\": \"Sentiment Subjectivity\",\n      \"properties\": {\n        \"dtype\": \"number\",\n        \"std\": 0.13974256983521738,\n        \"min\": 0.4545454545454545,\n        \"max\": 0.7511363636363636,\n        \"num_unique_values\": 4,\n        \"samples\": [\n          0.4545454545454545,\n          0.75,\n          0.6666666666666666\n        ],\n        \"semantic_type\": \"\",\n        \"description\": \"\"\n      }\n    },\n    {\n      \"column\": \"Named Entities\",\n      \"properties\": {\n        \"dtype\": \"category\",\n        \"num_unique_values\": 1,\n        \"samples\": [\n          \"['GPE']\"\n        ],\n        \"semantic_type\": \"\",\n        \"description\": \"\"\n      }\n    },\n    {\n      \"column\": \"Preferred Contact Method\",\n      \"properties\": {\n        \"dtype\": \"string\",\n        \"num_unique_values\": 2,\n        \"samples\": [\n          \"chat\"\n        ],\n        \"semantic_type\": \"\",\n        \"description\": \"\"\n      }\n    }\n  ]\n}"
            }
          },
          "metadata": {},
          "execution_count": 12
        }
      ],
      "source": [
        "##Load results file into a Pandas Dataframe\n",
        "df = pd.read_csv('/content/feedback_analysis_results.csv')\n",
        "\n",
        "\n",
        "# Display the first rows of the DataFrame\n",
        "df.head(4)\n"
      ]
    },
    {
      "cell_type": "code",
      "execution_count": 13,
      "metadata": {
        "id": "CP2J1lkwnyYL",
        "outputId": "7cfb4d98-7223-466d-8429-7f259cbfe0ac",
        "colab": {
          "base_uri": "https://localhost:8080/"
        }
      },
      "outputs": [
        {
          "output_type": "stream",
          "name": "stdout",
          "text": [
            "<class 'pandas.core.frame.DataFrame'>\n",
            "RangeIndex: 4 entries, 0 to 3\n",
            "Data columns (total 5 columns):\n",
            " #   Column                    Non-Null Count  Dtype  \n",
            "---  ------                    --------------  -----  \n",
            " 0   Feedback Index            4 non-null      int64  \n",
            " 1   Sentiment Polarity        4 non-null      float64\n",
            " 2   Sentiment Subjectivity    4 non-null      float64\n",
            " 3   Named Entities            4 non-null      object \n",
            " 4   Preferred Contact Method  4 non-null      object \n",
            "dtypes: float64(2), int64(1), object(2)\n",
            "memory usage: 288.0+ bytes\n"
          ]
        }
      ],
      "source": [
        "df.info()"
      ]
    },
    {
      "cell_type": "markdown",
      "source": [
        "##Plot the Preferred Contact Method"
      ],
      "metadata": {
        "id": "HPcHpaS5nb2k"
      }
    },
    {
      "cell_type": "code",
      "source": [
        "# Example plot: Preferred Contact Method Count\n",
        "df[\"Preferred Contact Method\"].value_counts().plot(kind=\"bar\")\n",
        "plt.title(\"Preferred Contact Method Count\")\n",
        "plt.xlabel(\"Preferred Contact Method\")\n",
        "\n",
        "\n",
        "\n"
      ],
      "metadata": {
        "id": "1LKkuGxtfDOt",
        "outputId": "779f5c03-c45f-4932-cdca-971c721440dd",
        "colab": {
          "base_uri": "https://localhost:8080/",
          "height": 513
        }
      },
      "execution_count": 14,
      "outputs": [
        {
          "output_type": "execute_result",
          "data": {
            "text/plain": [
              "Text(0.5, 0, 'Preferred Contact Method')"
            ]
          },
          "metadata": {},
          "execution_count": 14
        },
        {
          "output_type": "display_data",
          "data": {
            "text/plain": [
              "<Figure size 640x480 with 1 Axes>"
            ],
            "image/png": "[encoded data removed]"
          },
          "metadata": {}
        }
      ]
    },
    {
      "cell_type": "markdown",
      "source": [
        "##Plot the Sentiment Polarity and Sentiment Subjectivity"
      ],
      "metadata": {
        "id": "1ZN_mzufnh0S"
      }
    },
    {
      "cell_type": "code",
      "source": [
        "# Pair Plot: Pairwise relationships\n",
        "sns.pairplot(data=df[['Sentiment Polarity', 'Sentiment Subjectivity']],\n",
        "             diag_kind='kde')\n",
        "plt.suptitle('Pair Plot: Pairwise relationships')\n",
        "plt.show()"
      ],
      "metadata": {
        "id": "WjYn8tEjgivQ",
        "outputId": "b809f0f6-42a2-4ec0-a136-981c637b915d",
        "colab": {
          "base_uri": "https://localhost:8080/",
          "height": 515
        }
      },
      "execution_count": 15,
      "outputs": [
        {
          "output_type": "display_data",
          "data": {
            "text/plain": [
              "<Figure size 500x500 with 6 Axes>"
            ],
            "image/png": "[encoded data removed]"
          },
          "metadata": {}
        }
      ]
    }
  ],
  "metadata": {
    "colab": {
      "provenance": []
    },
    "kernelspec": {
      "display_name": "Python 3",
      "name": "python3"
    },
    "language_info": {
      "name": "python"
    }
  },
  "nbformat": 4,
  "nbformat_minor": 0
}